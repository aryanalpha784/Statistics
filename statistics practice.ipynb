{
 "cells": [
  {
   "cell_type": "code",
   "execution_count": 4,
   "id": "45cad29f-b2c8-4167-9493-b797d9923d10",
   "metadata": {},
   "outputs": [],
   "source": [
    "import numpy as np"
   ]
  },
  {
   "cell_type": "code",
   "execution_count": 6,
   "id": "081f6972-b479-4e00-9682-a959e624a71b",
   "metadata": {},
   "outputs": [],
   "source": [
    "matrix = np.array([1,2,3,4,5,6])\n",
    "vector = np.array([1,2,3,4,5,6])"
   ]
  },
  {
   "cell_type": "code",
   "execution_count": 8,
   "id": "adbb3935-91aa-4b76-9136-1491817774e4",
   "metadata": {},
   "outputs": [
    {
     "data": {
      "text/plain": [
       "array([ 2,  4,  6,  8, 10, 12])"
      ]
     },
     "execution_count": 8,
     "metadata": {},
     "output_type": "execute_result"
    }
   ],
   "source": [
    "result = matrix + matrix\n",
    "result"
   ]
  },
  {
   "cell_type": "code",
   "execution_count": 10,
   "id": "5bab28e4-9793-4f6b-b488-0666f32f6bad",
   "metadata": {},
   "outputs": [
    {
     "data": {
      "text/plain": [
       "array([1, 2, 3, 4, 5, 6])"
      ]
     },
     "execution_count": 10,
     "metadata": {},
     "output_type": "execute_result"
    }
   ],
   "source": [
    "transpose = matrix.T\n",
    "transpose "
   ]
  },
  {
   "cell_type": "code",
   "execution_count": 12,
   "id": "5a089df1-7b62-4538-9dd5-4933fa32969f",
   "metadata": {},
   "outputs": [],
   "source": [
    "#DOT PRODUCT"
   ]
  },
  {
   "cell_type": "code",
   "execution_count": 14,
   "id": "c8a64623-21e2-4bb7-a116-097aa56d970a",
   "metadata": {},
   "outputs": [
    {
     "data": {
      "text/plain": [
       "array([[ 30,  36,  42],\n",
       "       [ 66,  81,  96],\n",
       "       [102, 126, 150]])"
      ]
     },
     "execution_count": 14,
     "metadata": {},
     "output_type": "execute_result"
    }
   ],
   "source": [
    "vector1 = np.array([[1,2,3],[4,5,6],[7,8,9]])\n",
    "vector2 = np.array([[1,2,3],[4,5,6],[7,8,9]])\n",
    "\n",
    "dot_product = np.dot(vector1, vector2)\n",
    "dot_product"
   ]
  },
  {
   "cell_type": "code",
   "execution_count": 16,
   "id": "77d10b2f-7459-4617-8ab5-1c7aca95c00c",
   "metadata": {},
   "outputs": [],
   "source": [
    "#Determinant"
   ]
  },
  {
   "cell_type": "code",
   "execution_count": 22,
   "id": "74eb248f-ca18-4cf6-a1ed-b27324c0f77e",
   "metadata": {},
   "outputs": [
    {
     "name": "stdout",
     "output_type": "stream",
     "text": [
      "-9.51619735392994e-16\n"
     ]
    }
   ],
   "source": [
    "determinant = np.linalg.det(vector1)\n",
    "print(determinant)"
   ]
  },
  {
   "cell_type": "code",
   "execution_count": 24,
   "id": "38afb2f0-be53-4ce3-a3a1-b98fcfe4d36f",
   "metadata": {},
   "outputs": [
    {
     "name": "stdout",
     "output_type": "stream",
     "text": [
      "[[ 3.15251974e+15 -6.30503948e+15  3.15251974e+15]\n",
      " [-6.30503948e+15  1.26100790e+16 -6.30503948e+15]\n",
      " [ 3.15251974e+15 -6.30503948e+15  3.15251974e+15]]\n"
     ]
    }
   ],
   "source": [
    "inverse = np.linalg.inv(vector2)\n",
    "print(inverse)"
   ]
  },
  {
   "cell_type": "code",
   "execution_count": 26,
   "id": "bba53574-58d3-458d-8200-9bdedd207376",
   "metadata": {},
   "outputs": [
    {
     "data": {
      "text/plain": [
       "9.539392014169456"
      ]
     },
     "execution_count": 26,
     "metadata": {},
     "output_type": "execute_result"
    }
   ],
   "source": [
    "norm = np.linalg.norm(vector)\n",
    "norm"
   ]
  },
  {
   "cell_type": "code",
   "execution_count": 28,
   "id": "526ea439-071b-426a-a5b6-cd0eca51bbf6",
   "metadata": {},
   "outputs": [
    {
     "data": {
      "text/plain": [
       "array([[-0.225, -0.2  ,  0.   ],\n",
       "       [ 2.45 ,  1.4  ,  0.   ],\n",
       "       [-1.225, -0.2  ,  1.   ]])"
      ]
     },
     "execution_count": 28,
     "metadata": {},
     "output_type": "execute_result"
    }
   ],
   "source": [
    "A = np.array([[1,2,3],[4,5,6],[7,8,9]])\n",
    "B = np.array([[1,2,3],[4,5,6],[7,8,9]])\n",
    "X = np.linalg.solve(A, B)\n",
    "X"
   ]
  },
  {
   "cell_type": "markdown",
   "id": "3553b62c-4e5b-4ecc-8227-98316a1615a4",
   "metadata": {},
   "source": [
    "# CALCULAS"
   ]
  },
  {
   "cell_type": "code",
   "execution_count": 32,
   "id": "6bb37482-5f28-4c11-97a0-49560a055dcb",
   "metadata": {},
   "outputs": [],
   "source": [
    "from scipy.integrate import dblquad"
   ]
  },
  {
   "cell_type": "code",
   "execution_count": 34,
   "id": "ee48313c-c1e0-4a2c-a9a9-043a13087759",
   "metadata": {},
   "outputs": [],
   "source": [
    "def f(x,y):\n",
    "    return x**2 + x**2"
   ]
  },
  {
   "cell_type": "code",
   "execution_count": 40,
   "id": "7e51ae3a-a624-48c2-879f-dab45a441437",
   "metadata": {},
   "outputs": [
    {
     "data": {
      "text/plain": [
       "9"
      ]
     },
     "execution_count": 40,
     "metadata": {},
     "output_type": "execute_result"
    }
   ],
   "source": [
    "3**2"
   ]
  },
  {
   "cell_type": "code",
   "execution_count": 42,
   "id": "cc80c6b0-aff7-446d-a9af-7b89aa87c50a",
   "metadata": {},
   "outputs": [],
   "source": [
    "x_lower = 0\n",
    "x_upper = 1\n",
    "y_lower = 0\n",
    "y_upper = 1"
   ]
  },
  {
   "cell_type": "code",
   "execution_count": 46,
   "id": "281ab0e0-f26c-41e6-b1bf-2f6120d72313",
   "metadata": {},
   "outputs": [],
   "source": [
    "integral, error = dblquad(f, x_lower, x_upper, lambda y: y_lower, lambda y: y_upper)"
   ]
  },
  {
   "cell_type": "code",
   "execution_count": 50,
   "id": "e0fd2d44-b746-4684-bce7-6eb63075f7cd",
   "metadata": {},
   "outputs": [
    {
     "name": "stdout",
     "output_type": "stream",
     "text": [
      "Intergral: 0.6666666666666667\n",
      "Error: 7.401486830834377e-15\n"
     ]
    }
   ],
   "source": [
    "print(\"Intergral:\", integral)\n",
    "print(\"Error:\", error)"
   ]
  },
  {
   "cell_type": "code",
   "execution_count": 52,
   "id": "a5e315df-1023-4913-b257-72c6ea41f060",
   "metadata": {},
   "outputs": [
    {
     "name": "stdout",
     "output_type": "stream",
     "text": [
      "Area under the curve: 2.666666666666667\n"
     ]
    },
    {
     "data": {
      "text/plain": [
       "2.960594732333751e-14"
      ]
     },
     "execution_count": 52,
     "metadata": {},
     "output_type": "execute_result"
    }
   ],
   "source": [
    "from scipy.integrate import quad\n",
    "\n",
    "def f(x):\n",
    "    return x**2\n",
    "\n",
    "area, error = quad(f, 0, 2)\n",
    "\n",
    "print(\"Area under the curve:\",area)\n",
    "error"
   ]
  },
  {
   "cell_type": "code",
   "execution_count": 54,
   "id": "7001dd33-c95a-4566-ab03-cf93d1f636d3",
   "metadata": {},
   "outputs": [],
   "source": [
    "#Rank"
   ]
  },
  {
   "cell_type": "code",
   "execution_count": 56,
   "id": "7132fe8d-255c-49a2-89f3-bf2552ec76b8",
   "metadata": {},
   "outputs": [
    {
     "name": "stdout",
     "output_type": "stream",
     "text": [
      "Rank of the matrix: [2 2]\n"
     ]
    }
   ],
   "source": [
    "matrix = np.array([[[1,2,3],[4,5,6]],[[7,8,9],[10,11,12]]])\n",
    "rank = np.linalg.matrix_rank(matrix)\n",
    "print(\"Rank of the matrix:\",rank)"
   ]
  }
 ],
 "metadata": {
  "kernelspec": {
   "display_name": "Python 3 (ipykernel)",
   "language": "python",
   "name": "python3"
  },
  "language_info": {
   "codemirror_mode": {
    "name": "ipython",
    "version": 3
   },
   "file_extension": ".py",
   "mimetype": "text/x-python",
   "name": "python",
   "nbconvert_exporter": "python",
   "pygments_lexer": "ipython3",
   "version": "3.11.7"
  }
 },
 "nbformat": 4,
 "nbformat_minor": 5
}
